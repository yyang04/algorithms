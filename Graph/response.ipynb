{
 "cells": [
  {
   "cell_type": "code",
   "execution_count": 5,
   "id": "initial_id",
   "metadata": {
    "collapsed": true,
    "ExecuteTime": {
     "end_time": "2023-09-08T03:48:44.597074Z",
     "start_time": "2023-09-08T03:48:44.200682Z"
    }
   },
   "outputs": [],
   "source": [
    "import requests\n",
    "\n",
    "cookies = {\n",
    "    '_lxsdk_cuid': '179c686ca6ec8-0ae7947841d035-171f4b58-1ea000-179c686ca6fc8',\n",
    "    '_lxsdk': '179c686ca6ec8-0ae7947841d035-171f4b58-1ea000-179c686ca6fc8',\n",
    "    'moa_deviceId': '273BCC359DCA54E097D23806896DFE8C',\n",
    "    's_u_745896': 'qtzijrPq46ZQXwEHM9Wc4w==',\n",
    "    '_ga': 'GA1.2.417538421.1678955597',\n",
    "    'uu': '2c57f920-2066-11ee-93b7-c3d9b0f1d3c0',\n",
    "    'cid': '1',\n",
    "    'ai': '1',\n",
    "    '_gid': 'GA1.2.679872179.1693971938',\n",
    "    'ml.projectName': 'hmart-waimaiad',\n",
    "    'webNewUuid': '76be822f47a81ddb20c9bccbc193256d_1690854528655',\n",
    "    'moaDeviceId': '273BCC359DCA54E097D23806896DFE8C',\n",
    "    'jupyterhub-session-id': '586a5eded6e74eb09b8e6c063fb92012',\n",
    "    '_xsrf': '2|a794076b|89c6e6e9c30d72190533ec6993a87291|1694072057',\n",
    "    'com.sankuai.data.ml.platform_ssoid': 'eAGFzq9LQ0EAwHHOiQyDyJLB8OK28Li7dz9Nbu9NjP4CwSJ39-6J7McT32yGbU2DQZPDoGw4cKBoEGHNYDKK1eTcX2AwiYjZ_uXLJw2m757expznk_tOD-FZE1fdRNXKe2rbDVVdudWKu1NR9Sjerc45CELNuEaRUIxEBgvJdT4KvShEnBlOiy8gk1u3etXYmt3H3Cv6vkdl4BcoKUHJA-wJyIRkwUJJ-M7jsDHooyzA_47FD3I-tXj1evZ1iZYGR53PNmqB_OTE8oofhzaTee_2RrcXw4P-x3lzdN0d3TRnxp3Gw2ku-xsfg_QfrA1czrQVGEeEK4HCUGNopDZGGyQ9TFm4iZiEghKKBaN0w6FUUsGMEDhPCCZcSyM4RpATy5hRqgWmtmy9YIxNkrW4bGuHIJUk8TeMYXVy**eAEFwQEBwDAIAzBLdMDK7MCLfwlPjDHnPNtFIMpgz0unLy3lSQ2y2eQSpvEgsdd3S0J--gEGbhDN**NtIKdGvap4ddNq0O09U95S7Gy6KdTbvSIzmnZ2XwiUEbWr4ghOz2Tj_vPPYR63achc8wCA-L0iBA2JFhKnY_dA**NTc1OTc5NCx5YW5neXVmZW5nMDQs5p2o6Zuo5p6rLHlhbmd5dWZlbmcwNEBtZWl0dWFuLmNvbSwxLDAzMjEzNDQ1LDE2OTQxNzA0NTAzODA',\n",
    "    '_ga_CMKNNZ7C9C': 'GS1.2.1694087660.39.0.1694087660.0.0.0',\n",
    "    '_lx_utm': 'utm_source%3Dxm',\n",
    "    'WEBDFPID': '551yvxy9432y5y33y8vz1y414130u20x81z27w3x8vz979588395vw08-2009503791259-1694143791259OUUSECW75613c134b6a252faa6802015be905514309',\n",
    "    's_m_id_3299326472': 'AwMAAAA5AgAAAAIAAAE9AAAALOkrryj/652S6gMGXjGMdd5cFmpGHF2RXQ4kfFTFebRGKtukGSCcpw/+4usmAAAAI0ZzqPJFRS8XsxjxxJk/Rd3qTD8m1rG+/YVTxZjlJhcuZeW6',\n",
    "    '_lxsdk_s': '18a7294db83-72a-ee-b60%7C%7C425',\n",
    "}\n",
    "\n",
    "headers = {\n",
    "    'Accept': 'application/json, text/plain, */*',\n",
    "    'Accept-Language': 'en,zh-TW;q=0.9,zh;q=0.8,fr-FR;q=0.7,fr;q=0.6,co;q=0.5,zh-CN;q=0.4',\n",
    "    'Connection': 'keep-alive',\n",
    "    'Referer': 'https://mlp.sankuai.com/ml/',\n",
    "    'Sec-Fetch-Dest': 'empty',\n",
    "    'Sec-Fetch-Mode': 'cors',\n",
    "    'Sec-Fetch-Site': 'same-origin',\n",
    "    'User-Agent': 'Mozilla/5.0 (Macintosh; Intel Mac OS X 10_15_7) AppleWebKit/537.36 (KHTML, like Gecko) Chrome/116.0.0.0 Safari/537.36',\n",
    "    'X-Requested-With': 'XMLHttpRequest',\n",
    "    'sec-ch-ua': '\"Chromium\";v=\"116\", \"Not)A;Brand\";v=\"24\", \"Google Chrome\";v=\"116\"',\n",
    "    'sec-ch-ua-mobile': '?0',\n",
    "    'sec-ch-ua-platform': '\"macOS\"',\n",
    "}\n",
    "\n",
    "params = {\n",
    "    'queueCode': 'root.zw05_training_cluster.hadoop-waimaiadrd.pc',\n",
    "    'traceId': '81TlI0NMOCmUV6-GfGoOz_0',\n",
    "}\n",
    "\n",
    "response = requests.get(\n",
    "    'https://mlp.sankuai.com/mlapi/utils/yarn-cluster/queue/resource',\n",
    "    params=params,\n",
    "    cookies=cookies,\n",
    "    headers=headers,\n",
    ")"
   ]
  },
  {
   "cell_type": "code",
   "execution_count": 6,
   "outputs": [
    {
     "data": {
      "text/plain": "{'memory': 0,\n 'vcores': 0,\n 'gcores': 0,\n 'gcores8g': 0,\n 'gcores8gv': 0,\n 'gcores12g': 0,\n 'gcores16g': 0,\n 'gcores24g': 0,\n 'gcores32g': 0,\n 'gcores40g': 0,\n 'gcores80g': 0}"
     },
     "execution_count": 6,
     "metadata": {},
     "output_type": "execute_result"
    }
   ],
   "source": [
    "response.json()['data']"
   ],
   "metadata": {
    "collapsed": false,
    "ExecuteTime": {
     "end_time": "2023-09-08T03:48:45.114577Z",
     "start_time": "2023-09-08T03:48:45.106772Z"
    }
   },
   "id": "4eeadad80a829d55"
  },
  {
   "cell_type": "code",
   "execution_count": 15,
   "outputs": [],
   "source": [
    "a = {9331580:[[\"15484409079\",\"salesku\"],[\"13759621417\",\"salesku\"],[\"9716209927\",\"salesku\"],[\"11541863901\",\"salesku\"],[\"7134519566\",\"salesku\"],[\"15319033413\",\"salesku\"],[\"11447051823\",\"salesku\"],[\"14625507035\",\"salesku\"],[\"14841893940\",\"salesku\"],[\"3017856840\",\"salesku\"],[\"13426096872\",\"salesku\"],[\"3048826632\",\"salesku\"],[\"8910705583\",\"salesku\"],[\"16247707851\",\"salesku\"],[\"10034591953\",\"salesku\"],[\"10971338809\",\"salesku\"],[\"13761412080\",\"salesku\"],[\"3020928725\",\"salesku\"],[\"6502270066\",\"salesku\"],[\"13756245276\",\"salesku\"]],7595895:[[\"10915799713\",\"salesku\"],[\"13580058219\",\"salesku\"],[\"13215282068\",\"salesku\"],[\"11013743946\",\"salesku\"],[\"14915936312\",\"salesku\"],[\"15714072041\",\"salesku\"],[\"2709630165\",\"salesku\"],[\"13521974959\",\"salesku\"],[\"15396947682\",\"salesku\"],[\"15680653308\",\"salesku\"],[\"10673811562\",\"salesku\"],[\"13215721940\",\"salesku\"],[\"14915419745\",\"salesku\"],[\"13941318297\",\"salesku\"],[\"15456475709\",\"salesku\"],[\"10543606755\",\"salesku\"],[\"4231837346\",\"salesku\"],[\"13426424455\",\"salesku\"],[\"7717578219\",\"salesku\"],[\"13941516805\",\"salesku\"]],10957283:[[\"13257530686\",\"salesku\"],[\"16880173107\",\"salesku\"],[\"15178568611\",\"salesku\"],[\"4528282612\",\"salesku\"],[\"17022802052\",\"salesku\"],[\"6331220766\",\"salesku\"],[\"4279659348\",\"salesku\"],[\"16221452424\",\"salesku\"],[\"4276579005\",\"salesku\"],[\"17025133639\",\"salesku\"],[\"13682699047\",\"salesku\"],[\"13656547629\",\"salesku\"],[\"17024859926\",\"salesku\"],[\"17013858753\",\"salesku\"],[\"4243816490\",\"salesku\"],[\"4515253754\",\"salesku\"],[\"4244161316\",\"salesku\"],[\"4279710448\",\"salesku\"],[\"4260439553\",\"salesku\"],[\"13251634211\",\"salesku\"]],8435116:[[\"10714137501\",\"salesku\"],[\"9457786285\",\"salesku\"],[\"8567878066\",\"salesku\"],[\"6461955592\",\"salesku\"],[\"6461765656\",\"salesku\"],[\"6461272149\",\"salesku\"],[\"15345716450\",\"salesku\"],[\"6746451054\",\"salesku\"],[\"11754810590\",\"salesku\"],[\"13926214255\",\"salesku\"],[\"9458024246\",\"salesku\"],[\"12035147502\",\"salesku\"],[\"11794858431\",\"salesku\"],[\"11807870989\",\"salesku\"],[\"11907924495\",\"salesku\"],[\"11846094565\",\"salesku\"],[\"11884061862\",\"salesku\"],[\"8851580263\",\"salesku\"],[\"6466939275\",\"salesku\"],[\"9458036291\",\"salesku\"]],11132213:[[\"14232688221\",\"salesku\"],[\"14288313021\",\"salesku\"],[\"14230835999\",\"salesku\"],[\"14230835983\",\"salesku\"],[\"16373528005\",\"salesku\"],[\"14584653575\",\"salesku\"],[\"14584653573\",\"salesku\"],[\"14584653572\",\"salesku\"],[\"14230836066\",\"salesku\"],[\"14230836065\",\"salesku\"],[\"14584653576\",\"salesku\"],[\"5428474345\",\"salesku\"],[\"5428474338\",\"salesku\"],[\"4475178286\",\"salesku\"],[\"14231577812\",\"salesku\"],[\"14231577808\",\"salesku\"],[\"16738432043\",\"salesku\"],[\"4480669892\",\"salesku\"],[\"8947209620\",\"salesku\"],[\"16362551970\",\"salesku\"]]}"
   ],
   "metadata": {
    "collapsed": false,
    "ExecuteTime": {
     "end_time": "2023-09-08T08:14:00.314129Z",
     "start_time": "2023-09-08T08:14:00.295624Z"
    }
   },
   "id": "5fa7928bf77abaf9"
  },
  {
   "cell_type": "code",
   "execution_count": 16,
   "outputs": [
    {
     "data": {
      "text/plain": "[9331580, 7595895, 10957283, 8435116, 11132213]"
     },
     "execution_count": 16,
     "metadata": {},
     "output_type": "execute_result"
    }
   ],
   "source": [
    "list(a.keys())"
   ],
   "metadata": {
    "collapsed": false,
    "ExecuteTime": {
     "end_time": "2023-09-08T08:14:07.362611Z",
     "start_time": "2023-09-08T08:14:07.355303Z"
    }
   },
   "id": "9e9db478831699a8"
  },
  {
   "cell_type": "code",
   "execution_count": 12,
   "outputs": [
    {
     "data": {
      "text/plain": "dict_keys([10957283, 16674551, 9520795, 9554011, 11426275, 12920392, 16459369, 1251463, 17431775, 12269091, 10348164, 17641687, 13256726, 2149378, 13606380, 16258844, 11420038, 14411563, 17678077, 14238568, 12655605, 15592857, 9706659, 11742665, 16710277])"
     },
     "execution_count": 12,
     "metadata": {},
     "output_type": "execute_result"
    }
   ],
   "source": [
    "b.keys()"
   ],
   "metadata": {
    "collapsed": false,
    "ExecuteTime": {
     "end_time": "2023-09-08T08:11:16.239575Z",
     "start_time": "2023-09-08T08:11:16.227455Z"
    }
   },
   "id": "63229ea4f176f52f"
  },
  {
   "cell_type": "code",
   "execution_count": 23,
   "outputs": [],
   "source": [
    "a = [[\"14232688221\",\"salesku\"],[\"14288313021\",\"salesku\"],[\"14230835999\",\"salesku\"],[\"14230835983\",\"salesku\"],[\"16373528005\",\"salesku\"],[\"14584653575\",\"salesku\"],[\"14584653573\",\"salesku\"],[\"14584653572\",\"salesku\"],[\"14230836066\",\"salesku\"],[\"14230836065\",\"salesku\"],[\"14584653576\",\"salesku\"],[\"5428474345\",\"salesku\"],[\"5428474338\",\"salesku\"],[\"4475178286\",\"salesku\"],[\"14231577812\",\"salesku\"],[\"14231577808\",\"salesku\"],[\"16738432043\",\"salesku\"],[\"4480669892\",\"salesku\"],[\"8947209620\",\"salesku\"],[\"16362551970\",\"salesku\"]]"
   ],
   "metadata": {
    "collapsed": false,
    "ExecuteTime": {
     "end_time": "2023-09-08T08:40:06.120526Z",
     "start_time": "2023-09-08T08:40:06.112035Z"
    }
   },
   "id": "bc1ee6d69a2a36f3"
  },
  {
   "cell_type": "code",
   "execution_count": 24,
   "outputs": [
    {
     "name": "stdout",
     "output_type": "stream",
     "text": [
      "14232688221,14288313021,14230835999,14230835983,16373528005,14584653575,14584653573,14584653572,14230836066,14230836065,14584653576,5428474345,5428474338,4475178286,14231577812,14231577808,16738432043,4480669892,8947209620,16362551970,"
     ]
    }
   ],
   "source": [
    "for i in a:\n",
    "    print(int(i[0]),  end=',')"
   ],
   "metadata": {
    "collapsed": false,
    "ExecuteTime": {
     "end_time": "2023-09-08T08:40:06.680052Z",
     "start_time": "2023-09-08T08:40:06.671307Z"
    }
   },
   "id": "a15b82f61790ae7a"
  },
  {
   "cell_type": "code",
   "execution_count": null,
   "outputs": [],
   "source": [],
   "metadata": {
    "collapsed": false
   },
   "id": "3c3c909fda90457c"
  }
 ],
 "metadata": {
  "kernelspec": {
   "display_name": "Python 3",
   "language": "python",
   "name": "python3"
  },
  "language_info": {
   "codemirror_mode": {
    "name": "ipython",
    "version": 2
   },
   "file_extension": ".py",
   "mimetype": "text/x-python",
   "name": "python",
   "nbconvert_exporter": "python",
   "pygments_lexer": "ipython2",
   "version": "2.7.6"
  }
 },
 "nbformat": 4,
 "nbformat_minor": 5
}
